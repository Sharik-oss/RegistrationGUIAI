{
 "cells": [
  {
   "cell_type": "code",
   "execution_count": 3,
   "id": "464d2228",
   "metadata": {},
   "outputs": [],
   "source": [
    "# import the opencv library\n",
    "import cv2\n",
    "\n",
    "face_detection = cv2.CascadeClassifier(cv2.data.haarcascades + \"haarcascade_eye.xml\")\n",
    "\n",
    "# define a video capture object\n",
    "vid = cv2.VideoCapture(0)\n",
    "\n",
    "while(True):\n",
    "    \n",
    "    ret, frame = vid.read()\n",
    "#     gray_img = cv2.cvtColor(frame, cv2.COLOR_BGR2GRAY)\n",
    "    face = face_detection.detectMultiScale(frame, 1.1, 5)\n",
    "    for (x, y, w, h) in face:\n",
    "        cv2.rectangle(frame, (x,y), (x+w, y+h), (0,255,0),2)\n",
    "\n",
    "    cv2.imshow('Frame', frame)\n",
    "    if cv2.waitKey(1) & 0xFF == ord('q'):\n",
    "        break\n",
    "\n",
    "vid.release()\n",
    "cv2.destroyAllWindows()\n"
   ]
  },
  {
   "cell_type": "code",
   "execution_count": 1,
   "id": "ed74159f",
   "metadata": {},
   "outputs": [
    {
     "name": "stdout",
     "output_type": "stream",
     "text": [
      "Requirement already satisfied: pillow in c:\\users\\user\\pycharmprojects\\registrationguiai\\venv\\lib\\site-packages (9.5.0)\n"
     ]
    }
   ],
   "source": [
    "!pip install pillow"
   ]
  },
  {
   "cell_type": "code",
   "execution_count": 11,
   "id": "87b9f365",
   "metadata": {},
   "outputs": [],
   "source": [
    "import cv2"
   ]
  },
  {
   "cell_type": "code",
   "execution_count": 12,
   "id": "bc2aade4",
   "metadata": {},
   "outputs": [
    {
     "name": "stdout",
     "output_type": "stream",
     "text": [
      "They are same\n"
     ]
    }
   ],
   "source": [
    "img1 = cv2.imread(\"Cat03.jpg\")\n",
    "img2 = cv2.imread(\"Cat03(1).jpg\")\n",
    "img1_shape = img1.shape[:2]\n",
    "img2_shape = img2.shape[:2]\n",
    "if img1_shape == img2_shape:\n",
    "    print(\"They are same\")\n",
    "else:\n",
    "    print(\"Nope, they are not same\")"
   ]
  },
  {
   "cell_type": "code",
   "execution_count": 12,
   "id": "bd41ad72",
   "metadata": {},
   "outputs": [
    {
     "ename": "TypeError",
     "evalue": "a bytes-like object is required, not 'NoneType'",
     "output_type": "error",
     "traceback": [
      "\u001b[1;31m---------------------------------------------------------------------------\u001b[0m",
      "\u001b[1;31mTypeError\u001b[0m                                 Traceback (most recent call last)",
      "Cell \u001b[1;32mIn[12], line 16\u001b[0m\n\u001b[0;32m     11\u001b[0m img1 \u001b[38;5;241m=\u001b[39m \u001b[38;5;124mf\u001b[39m\u001b[38;5;124m'''\u001b[39m\n\u001b[0;32m     12\u001b[0m \u001b[38;5;124m     SELECT Image FROM Users WHERE Email = \u001b[39m\u001b[38;5;124m\"\u001b[39m\u001b[38;5;124mmamukabigvava2201@gmail.com\u001b[39m\u001b[38;5;124m\"\u001b[39m\n\u001b[0;32m     13\u001b[0m \u001b[38;5;124m'''\u001b[39m\n\u001b[0;32m     14\u001b[0m data \u001b[38;5;241m=\u001b[39m cursor\u001b[38;5;241m.\u001b[39mfetchone()\n\u001b[1;32m---> 16\u001b[0m img_from_base \u001b[38;5;241m=\u001b[39m \u001b[43mnp\u001b[49m\u001b[38;5;241;43m.\u001b[39;49m\u001b[43mfrombuffer\u001b[49m\u001b[43m(\u001b[49m\u001b[43mdata\u001b[49m\u001b[43m,\u001b[49m\u001b[43m \u001b[49m\u001b[43mnp\u001b[49m\u001b[38;5;241;43m.\u001b[39;49m\u001b[43muint8\u001b[49m\u001b[43m)\u001b[49m\u001b[38;5;241m.\u001b[39mreshape((\u001b[38;5;241m607\u001b[39m, \u001b[38;5;241m607\u001b[39m))\n\u001b[0;32m     18\u001b[0m capture \u001b[38;5;241m=\u001b[39m cv2\u001b[38;5;241m.\u001b[39mVideoCapture(\u001b[38;5;241m0\u001b[39m)\n\u001b[0;32m     19\u001b[0m ret, frame \u001b[38;5;241m=\u001b[39m capture\u001b[38;5;241m.\u001b[39mread()\n",
      "\u001b[1;31mTypeError\u001b[0m: a bytes-like object is required, not 'NoneType'"
     ]
    }
   ],
   "source": [
    "import cv2\n",
    "import numpy as np\n",
    "import sqlite3\n",
    "\n",
    "\n",
    "# img1 = cv2.imread('mamuka_bigvava.jpg')\n",
    "\n",
    "conn = sqlite3.connect('Users.db')\n",
    "cursor = conn.cursor()\n",
    "\n",
    "img1 = f'''\n",
    "     SELECT Image FROM Users WHERE Email = \"mamukabigvava2201@gmail.com\"\n",
    "'''\n",
    "data = cursor.fetchone()\n",
    "\n",
    "img_from_base = np.frombuffer(data, np.uint8).reshape((607, 607))\n",
    "\n",
    "capture = cv2.VideoCapture(0)\n",
    "ret, frame = capture.read()\n",
    "img2 = cv2.cvtColor(frame, cv2.COLOR_BGR2GRAY)\n",
    "img2.resize(607, 607, 3)\n",
    "mse = np.mean((img_from_base - img2) ** 2)\n",
    "psnr = 10 * np.log10((255**2) / mse)\n",
    "if psnr > 32:\n",
    "    print(\"They are similar\")\n",
    "else:\n",
    "    print(\"They are not similar\")\n",
    "    \n",
    "\n",
    "print('Mean squared error:', mse)\n",
    "print('Structural similarity index:', psnr)\n",
    "\n",
    "capture.release()\n",
    "cv2.destroyAllWindows()"
   ]
  },
  {
   "cell_type": "code",
   "execution_count": 31,
   "id": "1cf45c5d",
   "metadata": {},
   "outputs": [
    {
     "ename": "ValueError",
     "evalue": "operands could not be broadcast together with shapes (480,640) (8,5) ",
     "output_type": "error",
     "traceback": [
      "\u001b[1;31m---------------------------------------------------------------------------\u001b[0m",
      "\u001b[1;31mValueError\u001b[0m                                Traceback (most recent call last)",
      "Cell \u001b[1;32mIn[31], line 25\u001b[0m\n\u001b[0;32m     22\u001b[0m img2 \u001b[38;5;241m=\u001b[39m arr\u001b[38;5;241m.\u001b[39mreshape((\u001b[38;5;241m8\u001b[39m,\u001b[38;5;241m5\u001b[39m))\n\u001b[0;32m     24\u001b[0m \u001b[38;5;66;03m# Compare the images using mean squared error\u001b[39;00m\n\u001b[1;32m---> 25\u001b[0m mse \u001b[38;5;241m=\u001b[39m np\u001b[38;5;241m.\u001b[39mmean((\u001b[43mimg1\u001b[49m\u001b[43m \u001b[49m\u001b[38;5;241;43m-\u001b[39;49m\u001b[43m \u001b[49m\u001b[43mimg2\u001b[49m) \u001b[38;5;241m*\u001b[39m\u001b[38;5;241m*\u001b[39m \u001b[38;5;241m2\u001b[39m)\n\u001b[0;32m     27\u001b[0m \u001b[38;5;66;03m# Compare the images using structural similarity index\u001b[39;00m\n\u001b[0;32m     28\u001b[0m ssim \u001b[38;5;241m=\u001b[39m cv2\u001b[38;5;241m.\u001b[39mcompare_ssim(img1, img2)\n",
      "\u001b[1;31mValueError\u001b[0m: operands could not be broadcast together with shapes (480,640) (8,5) "
     ]
    }
   ],
   "source": [
    "import cv2\n",
    "import numpy as np\n",
    "import sqlite3\n",
    "\n",
    "# Initialize the video camera\n",
    "capture = cv2.VideoCapture(0)\n",
    "ret, frame = capture.read()\n",
    "img2 = cv2.cvtColor(frame, cv2.COLOR_BGR2GRAY)\n",
    "img2.resize(8, 5, 3)\n",
    "\n",
    "# Connect to the SQLite database\n",
    "conn = sqlite3.connect('Users.db')\n",
    "cursor = conn.cursor()\n",
    "\n",
    "# Retrieve the image data from the database\n",
    "query = f\"SELECT Image FROM Users WHERE Email = \\\"mamukabigvava2201@gmail.com\\\"\"\n",
    "cursor.execute(query)\n",
    "data = cursor.fetchone()[0]\n",
    "data_byte = data.encode()\n",
    "arr = np.arange(40)\n",
    "img2 = np.frombuffer(data_byte, np.uint8)\n",
    "img2 = arr.reshape((8,5))\n",
    "\n",
    "# Compare the images using mean squared error\n",
    "mse = np.mean((img1 - img2) ** 2)\n",
    "\n",
    "# Compare the images using structural similarity index\n",
    "ssim = cv2.compare_ssim(img1, img2)\n",
    "\n",
    "# Display the results\n",
    "print('Mean squared error:', mse)\n",
    "print('Structural similarity index:', ssim)\n",
    "\n",
    "# Release the camera and close all windows\n",
    "capture.release()\n",
    "cv2.destroyAllWindows()\n",
    "conn.close()\n"
   ]
  },
  {
   "cell_type": "code",
   "execution_count": null,
   "id": "04e2c443",
   "metadata": {},
   "outputs": [],
   "source": []
  }
 ],
 "metadata": {
  "kernelspec": {
   "display_name": "Python 3 (ipykernel)",
   "language": "python",
   "name": "python3"
  },
  "language_info": {
   "codemirror_mode": {
    "name": "ipython",
    "version": 3
   },
   "file_extension": ".py",
   "mimetype": "text/x-python",
   "name": "python",
   "nbconvert_exporter": "python",
   "pygments_lexer": "ipython3",
   "version": "3.9.13"
  }
 },
 "nbformat": 4,
 "nbformat_minor": 5
}
